{
 "cells": [
  {
   "cell_type": "code",
   "execution_count": 16,
   "metadata": {},
   "outputs": [
    {
     "name": "stdout",
     "output_type": "stream",
     "text": [
      "   Predicted Performance  kilojoules  total_elevation_gain  distance  \\\n",
      "0               0.765661         200                  1700        40   \n",
      "\n",
      "   average_heartrate  average_watts  moving_time  weighted_average_watts  \\\n",
      "0                160            200          600                     190   \n",
      "\n",
      "   average_cadence  average_speed  \n",
      "0               85              9  \n"
     ]
    }
   ],
   "source": [
    "import joblib\n",
    "import pandas as pd\n",
    "import numpy as np\n",
    "\n",
    "cycling_regression = joblib.load('cycling_regression.pkl')\n",
    "\n",
    "new_data = pd.DataFrame({\n",
    "    'kilojoules': [200],\n",
    "    'total_elevation_gain': [1700],\n",
    "    'distance': [40],\n",
    "    'average_heartrate': [160],\n",
    "    'average_watts': [200],\n",
    "    'moving_time': [600],\n",
    "    'weighted_average_watts': [190],\n",
    "    'average_cadence': [85],\n",
    "    'average_speed': [9],\n",
    "    'elapsed_time': [3600]\n",
    "})\n",
    "\n",
    "new_data = pd.DataFrame(new_data)\n",
    "\n",
    "new_data_transformed = cycling_regression.named_steps['preprocess'].transform(new_data)\n",
    "\n",
    "new_predictions = cycling_regression.named_steps['xgboost'].predict(new_data_transformed)\n",
    "\n",
    "new_results = pd.DataFrame({\n",
    "    'Predicted Performance': new_predictions,\n",
    "    'kilojoules': new_data['kilojoules'],\n",
    "    'total_elevation_gain': new_data['total_elevation_gain'],\n",
    "    'distance': new_data['distance'],\n",
    "    'average_heartrate': new_data['average_heartrate'],\n",
    "    'average_watts': new_data['average_watts'],\n",
    "    'moving_time': new_data['moving_time'],\n",
    "    'weighted_average_watts': new_data['weighted_average_watts'],\n",
    "    'average_cadence': new_data['average_cadence'],\n",
    "    'average_speed': new_data['average_speed']\n",
    "})\n",
    "\n",
    "print(new_results)\n"
   ]
  }
 ],
 "metadata": {
  "kernelspec": {
   "display_name": "LICENTA",
   "language": "python",
   "name": "python3"
  },
  "language_info": {
   "codemirror_mode": {
    "name": "ipython",
    "version": 3
   },
   "file_extension": ".py",
   "mimetype": "text/x-python",
   "name": "python",
   "nbconvert_exporter": "python",
   "pygments_lexer": "ipython3",
   "version": "3.11.8"
  }
 },
 "nbformat": 4,
 "nbformat_minor": 2
}
